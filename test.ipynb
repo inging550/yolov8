{
 "cells": [
  {
   "cell_type": "markdown",
   "metadata": {},
   "source": []
  },
  {
   "cell_type": "code",
   "execution_count": 1,
   "metadata": {},
   "outputs": [
    {
     "name": "stdout",
     "output_type": "stream",
     "text": [
      "loading annotations into memory...\n",
      "Done (t=0.34s)\n",
      "creating index...\n",
      "index created!\n"
     ]
    }
   ],
   "source": [
    "from pycocotools.coco import COCO\n",
    "coco = COCO(annotation_file=\"/home/zjl/桌面/project/data/cocoData/annotations/instances_val2017.json\")\n",
    "ids = coco.getCatIds('person')[0]\n",
    "imgids = coco.catToImgs[ids]"
   ]
  },
  {
   "cell_type": "code",
   "execution_count": 2,
   "metadata": {},
   "outputs": [
    {
     "data": {
      "text/plain": [
       "'000000425226.jpg'"
      ]
     },
     "execution_count": 2,
     "metadata": {},
     "output_type": "execute_result"
    }
   ],
   "source": [
    "coco.loadImgs(425226)[0]['file_name']"
   ]
  },
  {
   "cell_type": "code",
   "execution_count": 3,
   "metadata": {},
   "outputs": [
    {
     "data": {
      "text/plain": [
       "425226"
      ]
     },
     "execution_count": 3,
     "metadata": {},
     "output_type": "execute_result"
    }
   ],
   "source": [
    "int('000000425226')"
   ]
  },
  {
   "cell_type": "code",
   "execution_count": 4,
   "metadata": {},
   "outputs": [],
   "source": [
    "fn = lambda x : (0.01 * (1 - (1-0.01)/300 * x))"
   ]
  },
  {
   "cell_type": "code",
   "execution_count": 5,
   "metadata": {},
   "outputs": [
    {
     "data": {
      "text/plain": [
       "0.00010000000000000009"
      ]
     },
     "execution_count": 5,
     "metadata": {},
     "output_type": "execute_result"
    }
   ],
   "source": [
    "fn(300)"
   ]
  },
  {
   "cell_type": "code",
   "execution_count": 6,
   "metadata": {},
   "outputs": [
    {
     "name": "stdout",
     "output_type": "stream",
     "text": [
      "初始化的学习率： 0.01\n",
      "第1个epoch的学习率：0.010000\n",
      "第2个epoch的学习率：0.009010\n",
      "第3个epoch的学习率：0.008020\n",
      "第4个epoch的学习率：0.007030\n",
      "第5个epoch的学习率：0.006040\n",
      "第6个epoch的学习率：0.005050\n",
      "第7个epoch的学习率：0.004060\n",
      "第8个epoch的学习率：0.003070\n",
      "第9个epoch的学习率：0.002080\n",
      "第10个epoch的学习率：0.001090\n"
     ]
    },
    {
     "name": "stderr",
     "output_type": "stream",
     "text": [
      "/home/zjl/anaconda3/envs/normal/lib/python3.8/site-packages/tqdm/auto.py:21: TqdmWarning: IProgress not found. Please update jupyter and ipywidgets. See https://ipywidgets.readthedocs.io/en/stable/user_install.html\n",
      "  from .autonotebook import tqdm as notebook_tqdm\n"
     ]
    }
   ],
   "source": [
    "import torch\n",
    "import torch.nn as nn\n",
    "from torch.optim.lr_scheduler import LambdaLR\n",
    "\n",
    "initial_lr = 0.1\n",
    "\n",
    "class model(nn.Module):\n",
    "    def __init__(self):\n",
    "        super().__init__()\n",
    "        self.conv1 = nn.Conv2d(in_channels=3, out_channels=3, kernel_size=3)\n",
    "\n",
    "    def forward(self, x):\n",
    "        pass\n",
    "\n",
    "net_1 = model()\n",
    "\n",
    "optimizer_1 = torch.optim.Adam(net_1.parameters(), lr = 0.01)\n",
    "fn = lambda x : (1 - (1-0.01)/10 * x) \n",
    "scheduler_1 = LambdaLR(optimizer_1, lr_lambda=fn)\n",
    "\n",
    "print(\"初始化的学习率：\", optimizer_1.defaults['lr'])\n",
    "\n",
    "for epoch in range(1, 11):\n",
    "    # train\n",
    "\n",
    "    optimizer_1.zero_grad()\n",
    "    optimizer_1.step()\n",
    "    print(\"第%d个epoch的学习率：%f\" % (epoch, optimizer_1.param_groups[0]['lr']))\n",
    "    scheduler_1.step()\n"
   ]
  },
  {
   "cell_type": "code",
   "execution_count": 7,
   "metadata": {},
   "outputs": [],
   "source": [
    "xlist = torch.arange(0.5, 100)\n",
    "ylist = torch.arange(0.5, 100)\n",
    "y, x = torch.meshgrid(ylist, xlist, indexing='ij')"
   ]
  },
  {
   "cell_type": "code",
   "execution_count": 8,
   "metadata": {},
   "outputs": [],
   "source": [
    "import numpy as np\n",
    "xxlist = np.arange(0.5, 100)\n",
    "yylist = np.arange(0.5, 100)\n",
    "xx, yy = np.meshgrid(xxlist, yylist)"
   ]
  },
  {
   "cell_type": "code",
   "execution_count": 9,
   "metadata": {},
   "outputs": [
    {
     "data": {
      "text/plain": [
       "array([[ 0.5,  0.5,  0.5, ...,  0.5,  0.5,  0.5],\n",
       "       [ 1.5,  1.5,  1.5, ...,  1.5,  1.5,  1.5],\n",
       "       [ 2.5,  2.5,  2.5, ...,  2.5,  2.5,  2.5],\n",
       "       ...,\n",
       "       [97.5, 97.5, 97.5, ..., 97.5, 97.5, 97.5],\n",
       "       [98.5, 98.5, 98.5, ..., 98.5, 98.5, 98.5],\n",
       "       [99.5, 99.5, 99.5, ..., 99.5, 99.5, 99.5]])"
      ]
     },
     "execution_count": 9,
     "metadata": {},
     "output_type": "execute_result"
    }
   ],
   "source": [
    "yy"
   ]
  },
  {
   "cell_type": "code",
   "execution_count": 10,
   "metadata": {},
   "outputs": [
    {
     "name": "stdout",
     "output_type": "stream",
     "text": [
      "tensor([[-1.5248,  0.2664, -0.0234, -0.4654],\n",
      "        [ 0.3674, -1.2649,  1.8550,  1.4748]])\n",
      "tensor([[-1.5248,  1.2664, -0.0234,  0.5346],\n",
      "        [ 0.3674, -0.2649,  1.8550,  2.4748]])\n"
     ]
    }
   ],
   "source": [
    "a = torch.randn(2,4)\n",
    "print(a)\n",
    "a[:, [1,3]] += 1\n",
    "print(a)"
   ]
  },
  {
   "cell_type": "code",
   "execution_count": 11,
   "metadata": {},
   "outputs": [
    {
     "name": "stdout",
     "output_type": "stream",
     "text": [
      "162\n"
     ]
    }
   ],
   "source": [
    "from net.yolo8 import Yolo8\n",
    "backbone = Yolo8(80, 's', True).backbone\n",
    "# print(backbone)\n",
    "print(len(list(backbone.state_dict().items())))"
   ]
  },
  {
   "cell_type": "markdown",
   "metadata": {},
   "source": [
    "n-162\n",
    "\n",
    "l-306\n",
    "\n",
    "m-234\n",
    "\n",
    "x-306\n",
    "\n",
    "s-162"
   ]
  },
  {
   "cell_type": "code",
   "execution_count": 14,
   "metadata": {},
   "outputs": [
    {
     "ename": "IndexError",
     "evalue": "list index out of range",
     "output_type": "error",
     "traceback": [
      "\u001b[0;31m---------------------------------------------------------------------------\u001b[0m",
      "\u001b[0;31mIndexError\u001b[0m                                Traceback (most recent call last)",
      "\u001b[1;32m/home/zjl/桌面/project/yolo8/my_implement/test.ipynb Cell 14\u001b[0m line \u001b[0;36m1\n\u001b[0;32m----> <a href='vscode-notebook-cell:/home/zjl/%E6%A1%8C%E9%9D%A2/project/yolo8/my_implement/test.ipynb#X21sZmlsZQ%3D%3D?line=0'>1</a>\u001b[0m optimizer_1\u001b[39m.\u001b[39;49mparam_groups[\u001b[39m1\u001b[39;49m][\u001b[39m'\u001b[39m\u001b[39mlr\u001b[39m\u001b[39m'\u001b[39m]\n",
      "\u001b[0;31mIndexError\u001b[0m: list index out of range"
     ]
    }
   ],
   "source": [
    "optimizer_1.param_groups[1]['lr']"
   ]
  },
  {
   "cell_type": "code",
   "execution_count": null,
   "metadata": {},
   "outputs": [],
   "source": []
  }
 ],
 "metadata": {
  "kernelspec": {
   "display_name": "normal",
   "language": "python",
   "name": "python3"
  },
  "language_info": {
   "codemirror_mode": {
    "name": "ipython",
    "version": 3
   },
   "file_extension": ".py",
   "mimetype": "text/x-python",
   "name": "python",
   "nbconvert_exporter": "python",
   "pygments_lexer": "ipython3",
   "version": "3.8.17"
  },
  "orig_nbformat": 4
 },
 "nbformat": 4,
 "nbformat_minor": 2
}
